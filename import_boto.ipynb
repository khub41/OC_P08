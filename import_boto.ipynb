{
 "cells": [
  {
   "cell_type": "markdown",
   "id": "9052981e",
   "metadata": {},
   "source": [
    "# Import bibliothèques"
   ]
  },
  {
   "cell_type": "code",
   "execution_count": 1,
   "id": "3bff8e35",
   "metadata": {},
   "outputs": [
    {
     "name": "stderr",
     "output_type": "stream",
     "text": [
      "Using TensorFlow backend.\n",
      "C:\\Users\\S053567\\Anaconda3\\envs\\OC_P08\\lib\\site-packages\\tensorflow\\python\\framework\\dtypes.py:516: FutureWarning: Passing (type, 1) or '1type' as a synonym of type is deprecated; in a future version of numpy, it will be understood as (type, (1,)) / '(1,)type'.\n",
      "  _np_qint8 = np.dtype([(\"qint8\", np.int8, 1)])\n",
      "C:\\Users\\S053567\\Anaconda3\\envs\\OC_P08\\lib\\site-packages\\tensorflow\\python\\framework\\dtypes.py:517: FutureWarning: Passing (type, 1) or '1type' as a synonym of type is deprecated; in a future version of numpy, it will be understood as (type, (1,)) / '(1,)type'.\n",
      "  _np_quint8 = np.dtype([(\"quint8\", np.uint8, 1)])\n",
      "C:\\Users\\S053567\\Anaconda3\\envs\\OC_P08\\lib\\site-packages\\tensorflow\\python\\framework\\dtypes.py:518: FutureWarning: Passing (type, 1) or '1type' as a synonym of type is deprecated; in a future version of numpy, it will be understood as (type, (1,)) / '(1,)type'.\n",
      "  _np_qint16 = np.dtype([(\"qint16\", np.int16, 1)])\n",
      "C:\\Users\\S053567\\Anaconda3\\envs\\OC_P08\\lib\\site-packages\\tensorflow\\python\\framework\\dtypes.py:519: FutureWarning: Passing (type, 1) or '1type' as a synonym of type is deprecated; in a future version of numpy, it will be understood as (type, (1,)) / '(1,)type'.\n",
      "  _np_quint16 = np.dtype([(\"quint16\", np.uint16, 1)])\n",
      "C:\\Users\\S053567\\Anaconda3\\envs\\OC_P08\\lib\\site-packages\\tensorflow\\python\\framework\\dtypes.py:520: FutureWarning: Passing (type, 1) or '1type' as a synonym of type is deprecated; in a future version of numpy, it will be understood as (type, (1,)) / '(1,)type'.\n",
      "  _np_qint32 = np.dtype([(\"qint32\", np.int32, 1)])\n",
      "C:\\Users\\S053567\\Anaconda3\\envs\\OC_P08\\lib\\site-packages\\tensorflow\\python\\framework\\dtypes.py:525: FutureWarning: Passing (type, 1) or '1type' as a synonym of type is deprecated; in a future version of numpy, it will be understood as (type, (1,)) / '(1,)type'.\n",
      "  np_resource = np.dtype([(\"resource\", np.ubyte, 1)])\n",
      "C:\\Users\\S053567\\Anaconda3\\envs\\OC_P08\\lib\\site-packages\\tensorboard\\compat\\tensorflow_stub\\dtypes.py:541: FutureWarning: Passing (type, 1) or '1type' as a synonym of type is deprecated; in a future version of numpy, it will be understood as (type, (1,)) / '(1,)type'.\n",
      "  _np_qint8 = np.dtype([(\"qint8\", np.int8, 1)])\n",
      "C:\\Users\\S053567\\Anaconda3\\envs\\OC_P08\\lib\\site-packages\\tensorboard\\compat\\tensorflow_stub\\dtypes.py:542: FutureWarning: Passing (type, 1) or '1type' as a synonym of type is deprecated; in a future version of numpy, it will be understood as (type, (1,)) / '(1,)type'.\n",
      "  _np_quint8 = np.dtype([(\"quint8\", np.uint8, 1)])\n",
      "C:\\Users\\S053567\\Anaconda3\\envs\\OC_P08\\lib\\site-packages\\tensorboard\\compat\\tensorflow_stub\\dtypes.py:543: FutureWarning: Passing (type, 1) or '1type' as a synonym of type is deprecated; in a future version of numpy, it will be understood as (type, (1,)) / '(1,)type'.\n",
      "  _np_qint16 = np.dtype([(\"qint16\", np.int16, 1)])\n",
      "C:\\Users\\S053567\\Anaconda3\\envs\\OC_P08\\lib\\site-packages\\tensorboard\\compat\\tensorflow_stub\\dtypes.py:544: FutureWarning: Passing (type, 1) or '1type' as a synonym of type is deprecated; in a future version of numpy, it will be understood as (type, (1,)) / '(1,)type'.\n",
      "  _np_quint16 = np.dtype([(\"quint16\", np.uint16, 1)])\n",
      "C:\\Users\\S053567\\Anaconda3\\envs\\OC_P08\\lib\\site-packages\\tensorboard\\compat\\tensorflow_stub\\dtypes.py:545: FutureWarning: Passing (type, 1) or '1type' as a synonym of type is deprecated; in a future version of numpy, it will be understood as (type, (1,)) / '(1,)type'.\n",
      "  _np_qint32 = np.dtype([(\"qint32\", np.int32, 1)])\n",
      "C:\\Users\\S053567\\Anaconda3\\envs\\OC_P08\\lib\\site-packages\\tensorboard\\compat\\tensorflow_stub\\dtypes.py:550: FutureWarning: Passing (type, 1) or '1type' as a synonym of type is deprecated; in a future version of numpy, it will be understood as (type, (1,)) / '(1,)type'.\n",
      "  np_resource = np.dtype([(\"resource\", np.ubyte, 1)])\n"
     ]
    }
   ],
   "source": [
    "import configparser\n",
    "import pandas\n",
    "\n",
    "from PIL import Image\n",
    "import io\n",
    "import os\n",
    "import numpy as np\n",
    "\n",
    "import boto3\n",
    "\n",
    "import pyspark\n",
    "from pyspark.sql import SparkSession, Row\n",
    "from pyspark.sql.types import ArrayType, StringType, IntegerType, DoubleType, DataType, FloatType\n",
    "from pyspark.sql.functions import udf\n",
    "\n",
    "# Taches machine learning\n",
    "from pyspark.ml.image import ImageSchema\n",
    "from pyspark.ml.linalg import Vectors, VectorUDT, DenseVector\n",
    "from pyspark.ml.feature import VectorAssembler\n",
    "from pyspark.ml.feature import StringIndexer, StandardScaler\n",
    "from pyspark.ml.feature import PCA\n",
    "\n",
    "import matplotlib.pyplot as plt\n",
    "plt.style.use('seaborn')\n",
    "\n",
    "from keras.preprocessing.image import load_img\n",
    "from keras.preprocessing.image import img_to_array\n",
    "from keras.applications.vgg16 import preprocess_input\n",
    "from keras.applications.vgg16 import decode_predictions\n",
    "from keras.applications.vgg16 import VGG16\n",
    "from keras.models import Model"
   ]
  },
  {
   "cell_type": "code",
   "execution_count": 2,
   "id": "6a033bcb",
   "metadata": {},
   "outputs": [
    {
     "data": {
      "text/html": [
       "\n",
       "            <div>\n",
       "                <p><b>SparkSession - hive</b></p>\n",
       "                \n",
       "        <div>\n",
       "            <p><b>SparkContext</b></p>\n",
       "\n",
       "            <p><a href=\"http://PP20043011.societe.mma.fr:4040\">Spark UI</a></p>\n",
       "\n",
       "            <dl>\n",
       "              <dt>Version</dt>\n",
       "                <dd><code>v2.4.3</code></dd>\n",
       "              <dt>Master</dt>\n",
       "                <dd><code>spark://127.0.0.1:7077</code></dd>\n",
       "              <dt>AppName</dt>\n",
       "                <dd><code>PySparkShell</code></dd>\n",
       "            </dl>\n",
       "        </div>\n",
       "        \n",
       "            </div>\n",
       "        "
      ],
      "text/plain": [
       "<pyspark.sql.session.SparkSession at 0x20097ca3648>"
      ]
     },
     "execution_count": 2,
     "metadata": {},
     "output_type": "execute_result"
    }
   ],
   "source": [
    "spark"
   ]
  },
  {
   "cell_type": "code",
   "execution_count": 3,
   "id": "e972d1f6",
   "metadata": {},
   "outputs": [],
   "source": [
    "# pyspark --master spark://127.0.0.1:7077 --driver-memory 8g"
   ]
  },
  {
   "cell_type": "markdown",
   "id": "609f54de",
   "metadata": {},
   "source": [
    "# Récupération du profil S3"
   ]
  },
  {
   "cell_type": "code",
   "execution_count": 4,
   "id": "c66a7ef6",
   "metadata": {},
   "outputs": [],
   "source": [
    "aws_profile = \"default\"\n",
    "\n",
    "config = configparser.ConfigParser()\n",
    "config.read(os.path.expanduser(\".aws/credentials\"))\n",
    "access_id = config.get(aws_profile, \"aws_access_key_id\".upper()) \n",
    "access_key = config.get(aws_profile, \"aws_secret_access_key\".upper())"
   ]
  },
  {
   "cell_type": "code",
   "execution_count": 5,
   "id": "d33be018",
   "metadata": {},
   "outputs": [],
   "source": [
    "session = boto3.Session(\n",
    "    aws_access_key_id=access_id,\n",
    "    aws_secret_access_key=access_key,\n",
    ")"
   ]
  },
  {
   "cell_type": "markdown",
   "id": "5fe24d94",
   "metadata": {},
   "source": [
    "## Test de lecture"
   ]
  },
  {
   "cell_type": "code",
   "execution_count": 6,
   "id": "5faad38d",
   "metadata": {},
   "outputs": [],
   "source": [
    "s3 = session.resource('s3')\n",
    "bucket = s3.Bucket(\"fruits-oc-p08\")\n",
    "obj = bucket.Object(key='sample/apple_golden_1/r0_107.jpg')\n",
    "response = obj.get()\n",
    "file_stream = response[u'Body']\n",
    "im = Image.open(file_stream)\n",
    "im = im.resize((224,224))\n",
    "im_arr = np.asarray(im)"
   ]
  },
  {
   "cell_type": "code",
   "execution_count": 7,
   "id": "73faa7f8",
   "metadata": {},
   "outputs": [
    {
     "data": {
      "image/png": "[encoded data removed]",
      "text/plain": [
       "<PIL.Image.Image image mode=RGB size=224x224 at 0x200A0F3A848>"
      ]
     },
     "execution_count": 7,
     "metadata": {},
     "output_type": "execute_result"
    }
   ],
   "source": [
    "im"
   ]
  },
  {
   "cell_type": "markdown",
   "id": "b821238b",
   "metadata": {},
   "source": [
    "# Création SparkDataFrame a partir des données S3"
   ]
  },
  {
   "cell_type": "markdown",
   "id": "9b427b2d",
   "metadata": {},
   "source": [
    "## Récupération des liens"
   ]
  },
  {
   "cell_type": "code",
   "execution_count": 8,
   "id": "6b3e8aef",
   "metadata": {},
   "outputs": [],
   "source": [
    "paths = []\n",
    "for file in bucket.objects.all():\n",
    "    if file.key.split('/')[0] == 'sample':\n",
    "        paths.append(file.key)\n",
    "    \n",
    "rdd_paths = sc.parallelize(paths)\n",
    "row_rdd_paths = rdd_paths.map(lambda x: Row(x))"
   ]
  },
  {
   "cell_type": "code",
   "execution_count": 9,
   "id": "087c7022",
   "metadata": {},
   "outputs": [],
   "source": [
    "images_df = spark.createDataFrame(row_rdd_paths, ['path'])"
   ]
  },
  {
   "cell_type": "code",
   "execution_count": 10,
   "id": "5114474e",
   "metadata": {},
   "outputs": [
    {
     "name": "stdout",
     "output_type": "stream",
     "text": [
      "+--------------------+\n",
      "|                path|\n",
      "+--------------------+\n",
      "|sample/apple_gold...|\n",
      "|sample/apple_gold...|\n",
      "|sample/apple_gold...|\n",
      "|sample/apple_gold...|\n",
      "|sample/apple_gold...|\n",
      "|sample/cabbage_wh...|\n",
      "+--------------------+\n",
      "only showing top 6 rows\n",
      "\n"
     ]
    }
   ],
   "source": [
    "images_df.show(6)"
   ]
  },
  {
   "cell_type": "markdown",
   "id": "58566576",
   "metadata": {},
   "source": [
    "## Récupération des categs"
   ]
  },
  {
   "cell_type": "code",
   "execution_count": 11,
   "id": "3636e086",
   "metadata": {},
   "outputs": [],
   "source": [
    "def get_categ(path):\n",
    "    folder_name = path.split('/')[1]\n",
    "    categ = folder_name.split('_1')[0]\n",
    "    return categ"
   ]
  },
  {
   "cell_type": "code",
   "execution_count": 12,
   "id": "b3709a8b",
   "metadata": {},
   "outputs": [],
   "source": [
    "udf_categ = udf(get_categ, StringType())\n",
    "images_df = images_df.withColumn('categ', udf_categ('path'))"
   ]
  },
  {
   "cell_type": "code",
   "execution_count": 13,
   "id": "40390262",
   "metadata": {},
   "outputs": [
    {
     "name": "stdout",
     "output_type": "stream",
     "text": [
      "+---------------------------------+-------------+\n",
      "|                             path|        categ|\n",
      "+---------------------------------+-------------+\n",
      "| sample/apple_golden_1/r0_107.jpg| apple_golden|\n",
      "| sample/apple_golden_1/r0_171.jpg| apple_golden|\n",
      "| sample/apple_golden_1/r1_147.jpg| apple_golden|\n",
      "| sample/apple_golden_1/r1_175.jpg| apple_golden|\n",
      "| sample/apple_golden_1/r1_239.jpg| apple_golden|\n",
      "|sample/cabbage_white_1/r0_139.jpg|cabbage_white|\n",
      "+---------------------------------+-------------+\n",
      "only showing top 6 rows\n",
      "\n"
     ]
    }
   ],
   "source": [
    "images_df.show(6, truncate=60)"
   ]
  },
  {
   "cell_type": "markdown",
   "id": "26c7973e",
   "metadata": {},
   "source": [
    "## Récupération des images"
   ]
  },
  {
   "cell_type": "code",
   "execution_count": 14,
   "id": "13500b66",
   "metadata": {},
   "outputs": [],
   "source": [
    "def get_image(path):\n",
    "    s3 = session.resource('s3')\n",
    "    bucket = s3.Bucket(\"fruits-oc-p08\")\n",
    "    obj = bucket.Object(key=path)\n",
    "    response = obj.get()\n",
    "    file_stream = response['Body']\n",
    "    im = Image.open(file_stream)\n",
    "    im_resized = im.resize((20, 20))\n",
    "    return np.array(im_resized).flatten().tolist()"
   ]
  },
  {
   "cell_type": "code",
   "execution_count": 15,
   "id": "bdf16386",
   "metadata": {},
   "outputs": [
    {
     "data": {
      "text/plain": [
       "1200"
      ]
     },
     "execution_count": 15,
     "metadata": {},
     "output_type": "execute_result"
    }
   ],
   "source": [
    "len(get_image('sample/apple_golden_1/r0_107.jpg'))"
   ]
  },
  {
   "cell_type": "code",
   "execution_count": 16,
   "id": "070d927a",
   "metadata": {},
   "outputs": [],
   "source": [
    "udf_image = udf(get_image)"
   ]
  },
  {
   "cell_type": "code",
   "execution_count": 17,
   "id": "09d8202e",
   "metadata": {},
   "outputs": [],
   "source": [
    "images_df = images_df.withColumn('data', udf_image('path'))"
   ]
  },
  {
   "cell_type": "code",
   "execution_count": 18,
   "id": "53d14b2a",
   "metadata": {},
   "outputs": [
    {
     "name": "stdout",
     "output_type": "stream",
     "text": [
      "+---------------------------------+-------------+------------------------------------------------------------+\n",
      "|                             path|        categ|                                                        data|\n",
      "+---------------------------------+-------------+------------------------------------------------------------+\n",
      "| sample/apple_golden_1/r0_107.jpg| apple_golden|[255, 255, 255, 255, 255, 255, 255, 255, 255, 255, 255, 2...|\n",
      "| sample/apple_golden_1/r0_171.jpg| apple_golden|[255, 255, 255, 255, 255, 255, 255, 255, 255, 255, 255, 2...|\n",
      "| sample/apple_golden_1/r1_147.jpg| apple_golden|[255, 255, 255, 255, 255, 255, 255, 255, 255, 255, 255, 2...|\n",
      "| sample/apple_golden_1/r1_175.jpg| apple_golden|[255, 255, 255, 255, 255, 255, 255, 255, 255, 255, 255, 2...|\n",
      "| sample/apple_golden_1/r1_239.jpg| apple_golden|[255, 255, 255, 255, 255, 255, 255, 255, 255, 255, 255, 2...|\n",
      "|sample/cabbage_white_1/r0_139.jpg|cabbage_white|[255, 255, 255, 255, 255, 255, 255, 255, 255, 255, 255, 2...|\n",
      "+---------------------------------+-------------+------------------------------------------------------------+\n",
      "only showing top 6 rows\n",
      "\n"
     ]
    }
   ],
   "source": [
    "images_df.show(6, truncate=60)"
   ]
  },
  {
   "cell_type": "markdown",
   "id": "d2abbacf",
   "metadata": {},
   "source": [
    "## Création des vecteurs"
   ]
  },
  {
   "cell_type": "code",
   "execution_count": 19,
   "id": "a6366d85",
   "metadata": {},
   "outputs": [],
   "source": [
    "# conversion format vecteur dense\n",
    "udf_vecto = udf(lambda r: Vectors.dense(r), VectorUDT())\n",
    "images_df = images_df.withColumn('data', udf_vecto('data'))"
   ]
  },
  {
   "cell_type": "markdown",
   "id": "31a15366",
   "metadata": {},
   "source": [
    "## Standardisation"
   ]
  },
  {
   "cell_type": "code",
   "execution_count": 20,
   "id": "d3300309",
   "metadata": {},
   "outputs": [],
   "source": [
    "#standardisation des données\n",
    "standardizer = StandardScaler(inputCol=\"data\", outputCol=\"data_scale\", withStd=True, withMean=True)\n",
    "model_std = standardizer.fit(images_df)\n",
    "images_df = model_std.transform(images_df)"
   ]
  },
  {
   "cell_type": "code",
   "execution_count": 21,
   "id": "09ccfcfd",
   "metadata": {},
   "outputs": [],
   "source": [
    "images_df = images_df.drop('data')"
   ]
  },
  {
   "cell_type": "markdown",
   "id": "c089c475",
   "metadata": {},
   "source": [
    "# Entrainement PCA"
   ]
  },
  {
   "cell_type": "code",
   "execution_count": 22,
   "id": "ef1afe16",
   "metadata": {},
   "outputs": [],
   "source": [
    "pca_obj = PCA(k=100, inputCol='data_scale')\n",
    "pca_model = pca_obj.fit(images_df)"
   ]
  },
  {
   "cell_type": "code",
   "execution_count": 23,
   "id": "34ba8207",
   "metadata": {},
   "outputs": [
    {
     "data": {
      "text/plain": [
       "Text(0, 0.5, 'Variance cumulée')"
      ]
     },
     "execution_count": 23,
     "metadata": {},
     "output_type": "execute_result"
    },
    {
     "data": {
      "image/png": "[encoded data removed]",
      "text/plain": [
       "<Figure size 576x360 with 1 Axes>"
      ]
     },
     "metadata": {},
     "output_type": "display_data"
    }
   ],
   "source": [
    "eVc = pca_model.explainedVariance.cumsum()\n",
    "#plt.rcParams['figure.facecolor']='w'\n",
    "plt.figure(figsize=(8,5))\n",
    "plt.plot(range(1,len(eVc)+1), eVc, color='b', linestyle='-')\n",
    "plt.title('Scree plot')\n",
    "plt.xlabel('Nombre des premiers composants principaux')\n",
    "plt.ylabel('Variance cumulée')"
   ]
  },
  {
   "cell_type": "markdown",
   "id": "5909c9ce",
   "metadata": {},
   "source": [
    "### On prend 20 composantes principales"
   ]
  },
  {
   "cell_type": "code",
   "execution_count": 24,
   "id": "4a49333e",
   "metadata": {},
   "outputs": [],
   "source": [
    "pca_obj = PCA(k=20, inputCol='data_scale', outputCol='pca_features_classic')\n",
    "pca_model = pca_obj.fit(images_df)"
   ]
  },
  {
   "cell_type": "code",
   "execution_count": 25,
   "id": "c087c5a2",
   "metadata": {},
   "outputs": [],
   "source": [
    "images_df = pca_model.transform(images_df)"
   ]
  },
  {
   "cell_type": "code",
   "execution_count": 26,
   "id": "d3042bad",
   "metadata": {},
   "outputs": [
    {
     "name": "stdout",
     "output_type": "stream",
     "text": [
      "+--------------------+-------------+--------------------+--------------------+\n",
      "|                path|        categ|          data_scale|pca_features_classic|\n",
      "+--------------------+-------------+--------------------+--------------------+\n",
      "|sample/apple_gold...| apple_golden|[0.29727137307215...|[4.98322515727135...|\n",
      "|sample/apple_gold...| apple_golden|[0.29727137307215...|[9.61064370313451...|\n",
      "|sample/apple_gold...| apple_golden|[0.29727137307215...|[6.13758904996987...|\n",
      "|sample/apple_gold...| apple_golden|[0.29727137307215...|[7.46652431865648...|\n",
      "|sample/apple_gold...| apple_golden|[0.29727137307215...|[8.93427882146846...|\n",
      "|sample/cabbage_wh...|cabbage_white|[0.29727137307215...|[6.35674010172881...|\n",
      "+--------------------+-------------+--------------------+--------------------+\n",
      "only showing top 6 rows\n",
      "\n"
     ]
    }
   ],
   "source": [
    "images_df.show(6)"
   ]
  },
  {
   "cell_type": "code",
   "execution_count": 27,
   "id": "51f0ab99",
   "metadata": {},
   "outputs": [],
   "source": [
    "images_df = images_df.drop('data_scale')"
   ]
  },
  {
   "cell_type": "markdown",
   "id": "67dbecbb",
   "metadata": {},
   "source": [
    "# Extraction des features avec VGG16"
   ]
  },
  {
   "cell_type": "code",
   "execution_count": 28,
   "id": "a6cf5481",
   "metadata": {},
   "outputs": [],
   "source": [
    "def get_vgg16_features(path):\n",
    "    virgin_vgg16 = VGG16()\n",
    "    model_vgg16 = Model(inputs=virgin_vgg16.inputs, outputs=virgin_vgg16.layers[-2].output)\n",
    "    s3 = session.resource('s3')\n",
    "    bucket = s3.Bucket(\"fruits-oc-p08\")\n",
    "    obj = bucket.Object(key=path)\n",
    "    response = obj.get()\n",
    "    file_stream = response['Body']\n",
    "    im = Image.open(file_stream)\n",
    "    im = im.resize((224, 224))\n",
    "    im = img_to_array(im)\n",
    "    im = im.reshape(1, 224, 224, 3)\n",
    "    im = preprocess_input(im)\n",
    "    features = model_vgg16.predict(im).ravel().tolist()\n",
    "    return features"
   ]
  },
  {
   "cell_type": "code",
   "execution_count": 29,
   "id": "ccea3ad5",
   "metadata": {},
   "outputs": [],
   "source": [
    "udf_vgg_features = udf(get_vgg16_features)"
   ]
  },
  {
   "cell_type": "code",
   "execution_count": 30,
   "id": "64cd20e8",
   "metadata": {},
   "outputs": [],
   "source": [
    "images_df = images_df.withColumn('vgg_features', udf_vgg_features('path'))"
   ]
  },
  {
   "cell_type": "code",
   "execution_count": 31,
   "id": "42da44c3",
   "metadata": {},
   "outputs": [
    {
     "name": "stdout",
     "output_type": "stream",
     "text": [
      "+--------------------+-------------+--------------------+--------------------+\n",
      "|                path|        categ|pca_features_classic|        vgg_features|\n",
      "+--------------------+-------------+--------------------+--------------------+\n",
      "|sample/apple_gold...| apple_golden|[4.98322515727135...|[0.0, 0.0, 0.0, 0...|\n",
      "|sample/apple_gold...| apple_golden|[9.61064370313451...|[0.0, 0.0, 0.0, 0...|\n",
      "|sample/apple_gold...| apple_golden|[6.13758904996987...|[0.0, 0.0, 0.0, 0...|\n",
      "|sample/apple_gold...| apple_golden|[7.46652431865648...|[0.0, 0.0, 1.0020...|\n",
      "|sample/apple_gold...| apple_golden|[8.93427882146846...|[0.0, 0.0, 0.0, 0...|\n",
      "|sample/cabbage_wh...|cabbage_white|[6.35674010172881...|[0.0, 0.0, 0.0, 0...|\n",
      "+--------------------+-------------+--------------------+--------------------+\n",
      "only showing top 6 rows\n",
      "\n"
     ]
    }
   ],
   "source": [
    "images_df.show(6)"
   ]
  },
  {
   "cell_type": "code",
   "execution_count": 32,
   "id": "e2e3f47c",
   "metadata": {},
   "outputs": [],
   "source": [
    "udf_vecto = udf(lambda r: Vectors.dense(r), VectorUDT())"
   ]
  },
  {
   "cell_type": "code",
   "execution_count": 33,
   "id": "814283bf",
   "metadata": {},
   "outputs": [],
   "source": [
    "images_df = images_df.withColumn('vgg_features', udf_vecto('vgg_features'))"
   ]
  },
  {
   "cell_type": "code",
   "execution_count": 34,
   "id": "73e0c7eb",
   "metadata": {},
   "outputs": [],
   "source": [
    "standardizer = StandardScaler(inputCol=\"vgg_features\", outputCol=\"vgg_features_scale\", withStd=True, withMean=True)\n",
    "model_std = standardizer.fit(images_df)\n",
    "images_df = model_std.transform(images_df)"
   ]
  },
  {
   "cell_type": "code",
   "execution_count": 35,
   "id": "485bfb77",
   "metadata": {},
   "outputs": [
    {
     "name": "stdout",
     "output_type": "stream",
     "text": [
      "+--------------------+-------------+--------------------+--------------------+--------------------+\n",
      "|                path|        categ|pca_features_classic|        vgg_features|  vgg_features_scale|\n",
      "+--------------------+-------------+--------------------+--------------------+--------------------+\n",
      "|sample/apple_gold...| apple_golden|[4.98322515727135...|[0.0,0.0,0.0,0.0,...|[0.0,-0.425535354...|\n",
      "|sample/apple_gold...| apple_golden|[9.61064370313451...|[0.0,0.0,0.0,0.0,...|[0.0,-0.425535354...|\n",
      "|sample/apple_gold...| apple_golden|[6.13758904996987...|[0.0,0.0,0.0,0.0,...|[0.0,-0.425535354...|\n",
      "|sample/apple_gold...| apple_golden|[7.46652431865648...|[0.0,0.0,1.002059...|[0.0,-0.425535354...|\n",
      "|sample/apple_gold...| apple_golden|[8.93427882146846...|[0.0,0.0,0.0,0.0,...|[0.0,-0.425535354...|\n",
      "|sample/cabbage_wh...|cabbage_white|[6.35674010172881...|[0.0,0.0,0.0,0.59...|[0.0,-0.425535354...|\n",
      "+--------------------+-------------+--------------------+--------------------+--------------------+\n",
      "only showing top 6 rows\n",
      "\n"
     ]
    }
   ],
   "source": [
    "images_df.show(6)"
   ]
  },
  {
   "cell_type": "code",
   "execution_count": 36,
   "id": "ea1bf4ac",
   "metadata": {},
   "outputs": [],
   "source": [
    "images_df = images_df.drop('vgg_features')"
   ]
  },
  {
   "cell_type": "code",
   "execution_count": 37,
   "id": "b8584e9e",
   "metadata": {},
   "outputs": [],
   "source": [
    "pca_obj = PCA(k=100, inputCol='vgg_features_scale')\n",
    "pca_model = pca_obj.fit(images_df)"
   ]
  },
  {
   "cell_type": "code",
   "execution_count": 38,
   "id": "f0efcd99",
   "metadata": {},
   "outputs": [
    {
     "data": {
      "text/plain": [
       "Text(0, 0.5, 'Variance cumulée')"
      ]
     },
     "execution_count": 38,
     "metadata": {},
     "output_type": "execute_result"
    },
    {
     "data": {
      "image/png": "[encoded data removed]",
      "text/plain": [
       "<Figure size 576x360 with 1 Axes>"
      ]
     },
     "metadata": {},
     "output_type": "display_data"
    }
   ],
   "source": [
    "eVc = pca_model.explainedVariance.cumsum()\n",
    "#plt.rcParams['figure.facecolor']='w'\n",
    "plt.figure(figsize=(8,5))\n",
    "plt.plot(range(1,len(eVc)+1), eVc, color='b', linestyle='-')\n",
    "plt.title('Scree plot')\n",
    "plt.xlabel('Nombre des premiers composants principaux')\n",
    "plt.ylabel('Variance cumulée')"
   ]
  },
  {
   "cell_type": "markdown",
   "id": "089ac668",
   "metadata": {},
   "source": [
    "### On prend 24 composantes principales"
   ]
  },
  {
   "cell_type": "code",
   "execution_count": 39,
   "id": "9f089d71",
   "metadata": {},
   "outputs": [],
   "source": [
    "pca_obj = PCA(k=24, inputCol='vgg_features_scale', outputCol='pca_features_vgg')\n",
    "pca_model = pca_obj.fit(images_df)"
   ]
  },
  {
   "cell_type": "code",
   "execution_count": 40,
   "id": "b5fc7113",
   "metadata": {},
   "outputs": [],
   "source": [
    "images_df = pca_model.transform(images_df)"
   ]
  },
  {
   "cell_type": "code",
   "execution_count": 41,
   "id": "aafb33d1",
   "metadata": {},
   "outputs": [
    {
     "name": "stdout",
     "output_type": "stream",
     "text": [
      "+--------------------+-------------+--------------------+--------------------+--------------------+\n",
      "|                path|        categ|pca_features_classic|  vgg_features_scale|    pca_features_vgg|\n",
      "+--------------------+-------------+--------------------+--------------------+--------------------+\n",
      "|sample/apple_gold...| apple_golden|[4.98322515727135...|[0.0,-0.425535354...|[-3.8247194776895...|\n",
      "|sample/apple_gold...| apple_golden|[9.61064370313451...|[0.0,-0.425535354...|[-2.4402221520122...|\n",
      "|sample/apple_gold...| apple_golden|[6.13758904996987...|[0.0,-0.425535354...|[4.11065318320529...|\n",
      "|sample/apple_gold...| apple_golden|[7.46652431865648...|[0.0,-0.425535354...|[4.94032415879324...|\n",
      "|sample/apple_gold...| apple_golden|[8.93427882146846...|[0.0,-0.425535354...|[2.42931093489876...|\n",
      "|sample/cabbage_wh...|cabbage_white|[6.35674010172881...|[0.0,-0.425535354...|[-29.997279421664...|\n",
      "+--------------------+-------------+--------------------+--------------------+--------------------+\n",
      "only showing top 6 rows\n",
      "\n"
     ]
    }
   ],
   "source": [
    "images_df.show(6)"
   ]
  },
  {
   "cell_type": "code",
   "execution_count": 42,
   "id": "484f156b",
   "metadata": {},
   "outputs": [],
   "source": [
    "images_df_pandas = images_df.toPandas()"
   ]
  },
  {
   "cell_type": "code",
   "execution_count": 46,
   "id": "e0574013",
   "metadata": {},
   "outputs": [],
   "source": [
    "from io import StringIO"
   ]
  },
  {
   "cell_type": "code",
   "execution_count": 48,
   "id": "d88cc423",
   "metadata": {},
   "outputs": [
    {
     "data": {
      "text/plain": [
       "{'ResponseMetadata': {'RequestId': 'RJTZF9P05JF5SDGB',\n",
       "  'HostId': 'UlpRSiy8oLykBt4o4TjZsDxfdMY0Aon8fUIl6owNDLsxJywfgYGbDVuH7V+V2q0KCy5U9pMgnVE=',\n",
       "  'HTTPStatusCode': 200,\n",
       "  'HTTPHeaders': {'x-amz-id-2': 'UlpRSiy8oLykBt4o4TjZsDxfdMY0Aon8fUIl6owNDLsxJywfgYGbDVuH7V+V2q0KCy5U9pMgnVE=',\n",
       "   'x-amz-request-id': 'RJTZF9P05JF5SDGB',\n",
       "   'date': 'Wed, 02 Mar 2022 08:42:25 GMT',\n",
       "   'etag': '\"952a38e02f32c5a5d5f7aa40fee23786\"',\n",
       "   'server': 'AmazonS3',\n",
       "   'content-length': '0'},\n",
       "  'RetryAttempts': 0},\n",
       " 'ETag': '\"952a38e02f32c5a5d5f7aa40fee23786\"'}"
      ]
     },
     "execution_count": 48,
     "metadata": {},
     "output_type": "execute_result"
    }
   ],
   "source": [
    "csv_obj = StringIO()\n",
    "images_df_pandas.to_csv(csv_obj)\n",
    "s3.Object('fruits-oc-p08', \"results/results_sample_local_1.csv\").put(Body=csv_obj.getvalue())"
   ]
  },
  {
   "cell_type": "code",
   "execution_count": 49,
   "id": "06cb43b3",
   "metadata": {},
   "outputs": [
    {
     "data": {
      "text/html": [
       "<div>\n",
       "<style scoped>\n",
       "    .dataframe tbody tr th:only-of-type {\n",
       "        vertical-align: middle;\n",
       "    }\n",
       "\n",
       "    .dataframe tbody tr th {\n",
       "        vertical-align: top;\n",
       "    }\n",
       "\n",
       "    .dataframe thead th {\n",
       "        text-align: right;\n",
       "    }\n",
       "</style>\n",
       "<table border=\"1\" class=\"dataframe\">\n",
       "  <thead>\n",
       "    <tr style=\"text-align: right;\">\n",
       "      <th></th>\n",
       "      <th>path</th>\n",
       "      <th>categ</th>\n",
       "      <th>pca_features_classic</th>\n",
       "      <th>vgg_features_scale</th>\n",
       "      <th>pca_features_vgg</th>\n",
       "    </tr>\n",
       "  </thead>\n",
       "  <tbody>\n",
       "    <tr>\n",
       "      <th>0</th>\n",
       "      <td>sample/apple_golden_1/r0_107.jpg</td>\n",
       "      <td>apple_golden</td>\n",
       "      <td>[4.983225157271351, 2.998124013513851, -13.219...</td>\n",
       "      <td>[0.0, -0.4255353542048959, -0.4189828341756907...</td>\n",
       "      <td>[-3.8247194776895452, -14.344132411245436, 14....</td>\n",
       "    </tr>\n",
       "    <tr>\n",
       "      <th>1</th>\n",
       "      <td>sample/apple_golden_1/r0_171.jpg</td>\n",
       "      <td>apple_golden</td>\n",
       "      <td>[9.61064370313451, -1.2338946724610755, -21.53...</td>\n",
       "      <td>[0.0, -0.4255353542048959, -0.4189828341756907...</td>\n",
       "      <td>[-2.4402221520122644, -18.489174136844504, 12....</td>\n",
       "    </tr>\n",
       "    <tr>\n",
       "      <th>2</th>\n",
       "      <td>sample/apple_golden_1/r1_147.jpg</td>\n",
       "      <td>apple_golden</td>\n",
       "      <td>[6.137589049969879, -0.12308755848611984, -12....</td>\n",
       "      <td>[0.0, -0.4255353542048959, -0.4189828341756907...</td>\n",
       "      <td>[4.11065318320529, -16.737005855901835, 17.754...</td>\n",
       "    </tr>\n",
       "    <tr>\n",
       "      <th>3</th>\n",
       "      <td>sample/apple_golden_1/r1_175.jpg</td>\n",
       "      <td>apple_golden</td>\n",
       "      <td>[7.466524318656489, 1.7919673145063892, -19.34...</td>\n",
       "      <td>[0.0, -0.4255353542048959, 1.9590561012733818,...</td>\n",
       "      <td>[4.940324158793245, -16.94951440035451, 17.182...</td>\n",
       "    </tr>\n",
       "    <tr>\n",
       "      <th>4</th>\n",
       "      <td>sample/apple_golden_1/r1_239.jpg</td>\n",
       "      <td>apple_golden</td>\n",
       "      <td>[8.93427882146846, 1.248612152546039, -17.1469...</td>\n",
       "      <td>[0.0, -0.4255353542048959, -0.4189828341756907...</td>\n",
       "      <td>[2.4293109348987647, -18.307337955467336, 6.90...</td>\n",
       "    </tr>\n",
       "    <tr>\n",
       "      <th>5</th>\n",
       "      <td>sample/cabbage_white_1/r0_139.jpg</td>\n",
       "      <td>cabbage_white</td>\n",
       "      <td>[6.35674010172881, -8.748284267485557, -9.5116...</td>\n",
       "      <td>[0.0, -0.4255353542048959, -0.4189828341756907...</td>\n",
       "      <td>[-29.99727942166436, 22.716796993357352, 18.35...</td>\n",
       "    </tr>\n",
       "    <tr>\n",
       "      <th>6</th>\n",
       "      <td>sample/cabbage_white_1/r0_15.jpg</td>\n",
       "      <td>cabbage_white</td>\n",
       "      <td>[9.79369732928438, -8.59407456074032, -12.9782...</td>\n",
       "      <td>[0.0, -0.4255353542048959, -0.4189828341756907...</td>\n",
       "      <td>[-26.947976180034864, 27.275713634380722, 15.8...</td>\n",
       "    </tr>\n",
       "    <tr>\n",
       "      <th>7</th>\n",
       "      <td>sample/cabbage_white_1/r0_159.jpg</td>\n",
       "      <td>cabbage_white</td>\n",
       "      <td>[8.119063502459555, -7.494255287809149, -12.74...</td>\n",
       "      <td>[0.0, -0.4255353542048959, -0.4189828341756907...</td>\n",
       "      <td>[-31.69133316652998, 29.39039946998507, 17.399...</td>\n",
       "    </tr>\n",
       "    <tr>\n",
       "      <th>8</th>\n",
       "      <td>sample/cabbage_white_1/r0_63.jpg</td>\n",
       "      <td>cabbage_white</td>\n",
       "      <td>[8.11798925209421, -8.159591282814786, -8.7228...</td>\n",
       "      <td>[0.0, -0.4255353542048959, -0.4189828341756907...</td>\n",
       "      <td>[-30.346915563116205, 27.305044663039567, 17.9...</td>\n",
       "    </tr>\n",
       "    <tr>\n",
       "      <th>9</th>\n",
       "      <td>sample/cabbage_white_1/r0_91.jpg</td>\n",
       "      <td>cabbage_white</td>\n",
       "      <td>[8.959357982202029, -7.77202730378071, -12.443...</td>\n",
       "      <td>[0.0, -0.4255353542048959, -0.4189828341756907...</td>\n",
       "      <td>[-28.562123522900972, 25.49870009801223, 16.68...</td>\n",
       "    </tr>\n",
       "    <tr>\n",
       "      <th>10</th>\n",
       "      <td>sample/cucumber_1/r0_115.jpg</td>\n",
       "      <td>cucumber</td>\n",
       "      <td>[-24.390813692775744, -5.2235870299617515, 14....</td>\n",
       "      <td>[0.0, 2.052467306121496, -0.4189828341756907, ...</td>\n",
       "      <td>[-15.590227809395794, -9.011572634520153, -40....</td>\n",
       "    </tr>\n",
       "    <tr>\n",
       "      <th>11</th>\n",
       "      <td>sample/cucumber_1/r0_159.jpg</td>\n",
       "      <td>cucumber</td>\n",
       "      <td>[-26.81002041112859, 2.722483391886763, 12.120...</td>\n",
       "      <td>[0.0, 2.3719131384235337, -0.4189828341756907,...</td>\n",
       "      <td>[-19.500456099037898, -5.948074411721828, -33....</td>\n",
       "    </tr>\n",
       "    <tr>\n",
       "      <th>12</th>\n",
       "      <td>sample/cucumber_1/r0_175.jpg</td>\n",
       "      <td>cucumber</td>\n",
       "      <td>[-27.65227418590182, 10.850498339575742, 10.52...</td>\n",
       "      <td>[0.0, 1.955706410548758, -0.4189828341756907, ...</td>\n",
       "      <td>[-17.63012469505711, -5.798484009460023, -34.9...</td>\n",
       "    </tr>\n",
       "    <tr>\n",
       "      <th>13</th>\n",
       "      <td>sample/cucumber_1/r0_7.jpg</td>\n",
       "      <td>cucumber</td>\n",
       "      <td>[-18.082369767329006, 15.72069633752145, 11.47...</td>\n",
       "      <td>[0.0, 2.5561555832090264, -0.4189828341756907,...</td>\n",
       "      <td>[-18.074616782633168, -6.855843204140244, -34....</td>\n",
       "    </tr>\n",
       "    <tr>\n",
       "      <th>14</th>\n",
       "      <td>sample/cucumber_1/r0_75.jpg</td>\n",
       "      <td>cucumber</td>\n",
       "      <td>[-25.249083317047955, 9.921732043627287, 6.929...</td>\n",
       "      <td>[0.0, -0.4255353542048959, -0.4189828341756907...</td>\n",
       "      <td>[-21.707957629006273, -1.8702703573859656, -30...</td>\n",
       "    </tr>\n",
       "    <tr>\n",
       "      <th>15</th>\n",
       "      <td>sample/eggplant_violet_1/r0_103.jpg</td>\n",
       "      <td>eggplant_violet</td>\n",
       "      <td>[44.92851145603875, 11.699254869322624, 20.336...</td>\n",
       "      <td>[0.0, -0.4255353542048959, 1.949480588011887, ...</td>\n",
       "      <td>[42.42357347213143, 24.134528765041715, -7.108...</td>\n",
       "    </tr>\n",
       "    <tr>\n",
       "      <th>16</th>\n",
       "      <td>sample/eggplant_violet_1/r0_135.jpg</td>\n",
       "      <td>eggplant_violet</td>\n",
       "      <td>[45.431558329670914, 10.358589994454032, 19.41...</td>\n",
       "      <td>[0.0, -0.4255353542048959, 1.8456380047620935,...</td>\n",
       "      <td>[41.222770203268695, 26.768111919432876, -6.96...</td>\n",
       "    </tr>\n",
       "    <tr>\n",
       "      <th>17</th>\n",
       "      <td>sample/eggplant_violet_1/r0_151.jpg</td>\n",
       "      <td>eggplant_violet</td>\n",
       "      <td>[40.48853423823514, 9.897501518400588, 19.5539...</td>\n",
       "      <td>[0.0, -0.4255353542048959, 3.0444648236421425,...</td>\n",
       "      <td>[39.32985617625425, 23.27535661379619, -5.4720...</td>\n",
       "    </tr>\n",
       "    <tr>\n",
       "      <th>18</th>\n",
       "      <td>sample/eggplant_violet_1/r0_223.jpg</td>\n",
       "      <td>eggplant_violet</td>\n",
       "      <td>[-8.07178335722997, -41.05413500989925, 22.354...</td>\n",
       "      <td>[0.0, -0.4255353542048959, -0.4189828341756907...</td>\n",
       "      <td>[31.011312839839288, 22.95059560726529, -3.960...</td>\n",
       "    </tr>\n",
       "    <tr>\n",
       "      <th>19</th>\n",
       "      <td>sample/eggplant_violet_1/r0_311.jpg</td>\n",
       "      <td>eggplant_violet</td>\n",
       "      <td>[-3.9887610054495917, -42.46334423268347, 8.93...</td>\n",
       "      <td>[0.0, -0.4255353542048959, -0.4189828341756907...</td>\n",
       "      <td>[36.601308230727035, 26.5379949020164, -6.8574...</td>\n",
       "    </tr>\n",
       "    <tr>\n",
       "      <th>20</th>\n",
       "      <td>sample/pear_3/r0_115.jpg</td>\n",
       "      <td>pear_3</td>\n",
       "      <td>[-14.647245721949135, 8.09325707122619, -2.822...</td>\n",
       "      <td>[0.0, -0.4255353542048959, -0.4189828341756907...</td>\n",
       "      <td>[7.48615590313787, -28.02405144799587, 9.92487...</td>\n",
       "    </tr>\n",
       "    <tr>\n",
       "      <th>21</th>\n",
       "      <td>sample/pear_3/r0_199.jpg</td>\n",
       "      <td>pear_3</td>\n",
       "      <td>[-12.926691182415649, 11.82124674190555, 0.904...</td>\n",
       "      <td>[0.0, -0.4255353542048959, -0.4189828341756907...</td>\n",
       "      <td>[11.234997106837316, -28.23871002616474, 15.11...</td>\n",
       "    </tr>\n",
       "    <tr>\n",
       "      <th>22</th>\n",
       "      <td>sample/pear_3/r0_235.jpg</td>\n",
       "      <td>pear_3</td>\n",
       "      <td>[-16.78076887975592, 12.628173067827724, 0.295...</td>\n",
       "      <td>[0.0, -0.4255353542048959, -0.4189828341756907...</td>\n",
       "      <td>[8.10849586050195, -33.88620613955271, 10.0888...</td>\n",
       "    </tr>\n",
       "    <tr>\n",
       "      <th>23</th>\n",
       "      <td>sample/pear_3/r0_295.jpg</td>\n",
       "      <td>pear_3</td>\n",
       "      <td>[-15.354098319526466, 9.157312390361907, -3.65...</td>\n",
       "      <td>[0.0, -0.4255353542048959, -0.4189828341756907...</td>\n",
       "      <td>[7.846723108220783, -26.94093574149047, 9.9348...</td>\n",
       "    </tr>\n",
       "    <tr>\n",
       "      <th>24</th>\n",
       "      <td>sample/pear_3/r0_83.jpg</td>\n",
       "      <td>pear_3</td>\n",
       "      <td>[-15.37380340170444, 11.956831959445937, -0.55...</td>\n",
       "      <td>[0.0, -0.4255353542048959, -0.4189828341756907...</td>\n",
       "      <td>[9.56847132126232, -24.451929934082454, 4.4696...</td>\n",
       "    </tr>\n",
       "  </tbody>\n",
       "</table>\n",
       "</div>"
      ],
      "text/plain": [
       "                                   path            categ  \\\n",
       "0      sample/apple_golden_1/r0_107.jpg     apple_golden   \n",
       "1      sample/apple_golden_1/r0_171.jpg     apple_golden   \n",
       "2      sample/apple_golden_1/r1_147.jpg     apple_golden   \n",
       "3      sample/apple_golden_1/r1_175.jpg     apple_golden   \n",
       "4      sample/apple_golden_1/r1_239.jpg     apple_golden   \n",
       "5     sample/cabbage_white_1/r0_139.jpg    cabbage_white   \n",
       "6      sample/cabbage_white_1/r0_15.jpg    cabbage_white   \n",
       "7     sample/cabbage_white_1/r0_159.jpg    cabbage_white   \n",
       "8      sample/cabbage_white_1/r0_63.jpg    cabbage_white   \n",
       "9      sample/cabbage_white_1/r0_91.jpg    cabbage_white   \n",
       "10         sample/cucumber_1/r0_115.jpg         cucumber   \n",
       "11         sample/cucumber_1/r0_159.jpg         cucumber   \n",
       "12         sample/cucumber_1/r0_175.jpg         cucumber   \n",
       "13           sample/cucumber_1/r0_7.jpg         cucumber   \n",
       "14          sample/cucumber_1/r0_75.jpg         cucumber   \n",
       "15  sample/eggplant_violet_1/r0_103.jpg  eggplant_violet   \n",
       "16  sample/eggplant_violet_1/r0_135.jpg  eggplant_violet   \n",
       "17  sample/eggplant_violet_1/r0_151.jpg  eggplant_violet   \n",
       "18  sample/eggplant_violet_1/r0_223.jpg  eggplant_violet   \n",
       "19  sample/eggplant_violet_1/r0_311.jpg  eggplant_violet   \n",
       "20             sample/pear_3/r0_115.jpg           pear_3   \n",
       "21             sample/pear_3/r0_199.jpg           pear_3   \n",
       "22             sample/pear_3/r0_235.jpg           pear_3   \n",
       "23             sample/pear_3/r0_295.jpg           pear_3   \n",
       "24              sample/pear_3/r0_83.jpg           pear_3   \n",
       "\n",
       "                                 pca_features_classic  \\\n",
       "0   [4.983225157271351, 2.998124013513851, -13.219...   \n",
       "1   [9.61064370313451, -1.2338946724610755, -21.53...   \n",
       "2   [6.137589049969879, -0.12308755848611984, -12....   \n",
       "3   [7.466524318656489, 1.7919673145063892, -19.34...   \n",
       "4   [8.93427882146846, 1.248612152546039, -17.1469...   \n",
       "5   [6.35674010172881, -8.748284267485557, -9.5116...   \n",
       "6   [9.79369732928438, -8.59407456074032, -12.9782...   \n",
       "7   [8.119063502459555, -7.494255287809149, -12.74...   \n",
       "8   [8.11798925209421, -8.159591282814786, -8.7228...   \n",
       "9   [8.959357982202029, -7.77202730378071, -12.443...   \n",
       "10  [-24.390813692775744, -5.2235870299617515, 14....   \n",
       "11  [-26.81002041112859, 2.722483391886763, 12.120...   \n",
       "12  [-27.65227418590182, 10.850498339575742, 10.52...   \n",
       "13  [-18.082369767329006, 15.72069633752145, 11.47...   \n",
       "14  [-25.249083317047955, 9.921732043627287, 6.929...   \n",
       "15  [44.92851145603875, 11.699254869322624, 20.336...   \n",
       "16  [45.431558329670914, 10.358589994454032, 19.41...   \n",
       "17  [40.48853423823514, 9.897501518400588, 19.5539...   \n",
       "18  [-8.07178335722997, -41.05413500989925, 22.354...   \n",
       "19  [-3.9887610054495917, -42.46334423268347, 8.93...   \n",
       "20  [-14.647245721949135, 8.09325707122619, -2.822...   \n",
       "21  [-12.926691182415649, 11.82124674190555, 0.904...   \n",
       "22  [-16.78076887975592, 12.628173067827724, 0.295...   \n",
       "23  [-15.354098319526466, 9.157312390361907, -3.65...   \n",
       "24  [-15.37380340170444, 11.956831959445937, -0.55...   \n",
       "\n",
       "                                   vgg_features_scale  \\\n",
       "0   [0.0, -0.4255353542048959, -0.4189828341756907...   \n",
       "1   [0.0, -0.4255353542048959, -0.4189828341756907...   \n",
       "2   [0.0, -0.4255353542048959, -0.4189828341756907...   \n",
       "3   [0.0, -0.4255353542048959, 1.9590561012733818,...   \n",
       "4   [0.0, -0.4255353542048959, -0.4189828341756907...   \n",
       "5   [0.0, -0.4255353542048959, -0.4189828341756907...   \n",
       "6   [0.0, -0.4255353542048959, -0.4189828341756907...   \n",
       "7   [0.0, -0.4255353542048959, -0.4189828341756907...   \n",
       "8   [0.0, -0.4255353542048959, -0.4189828341756907...   \n",
       "9   [0.0, -0.4255353542048959, -0.4189828341756907...   \n",
       "10  [0.0, 2.052467306121496, -0.4189828341756907, ...   \n",
       "11  [0.0, 2.3719131384235337, -0.4189828341756907,...   \n",
       "12  [0.0, 1.955706410548758, -0.4189828341756907, ...   \n",
       "13  [0.0, 2.5561555832090264, -0.4189828341756907,...   \n",
       "14  [0.0, -0.4255353542048959, -0.4189828341756907...   \n",
       "15  [0.0, -0.4255353542048959, 1.949480588011887, ...   \n",
       "16  [0.0, -0.4255353542048959, 1.8456380047620935,...   \n",
       "17  [0.0, -0.4255353542048959, 3.0444648236421425,...   \n",
       "18  [0.0, -0.4255353542048959, -0.4189828341756907...   \n",
       "19  [0.0, -0.4255353542048959, -0.4189828341756907...   \n",
       "20  [0.0, -0.4255353542048959, -0.4189828341756907...   \n",
       "21  [0.0, -0.4255353542048959, -0.4189828341756907...   \n",
       "22  [0.0, -0.4255353542048959, -0.4189828341756907...   \n",
       "23  [0.0, -0.4255353542048959, -0.4189828341756907...   \n",
       "24  [0.0, -0.4255353542048959, -0.4189828341756907...   \n",
       "\n",
       "                                     pca_features_vgg  \n",
       "0   [-3.8247194776895452, -14.344132411245436, 14....  \n",
       "1   [-2.4402221520122644, -18.489174136844504, 12....  \n",
       "2   [4.11065318320529, -16.737005855901835, 17.754...  \n",
       "3   [4.940324158793245, -16.94951440035451, 17.182...  \n",
       "4   [2.4293109348987647, -18.307337955467336, 6.90...  \n",
       "5   [-29.99727942166436, 22.716796993357352, 18.35...  \n",
       "6   [-26.947976180034864, 27.275713634380722, 15.8...  \n",
       "7   [-31.69133316652998, 29.39039946998507, 17.399...  \n",
       "8   [-30.346915563116205, 27.305044663039567, 17.9...  \n",
       "9   [-28.562123522900972, 25.49870009801223, 16.68...  \n",
       "10  [-15.590227809395794, -9.011572634520153, -40....  \n",
       "11  [-19.500456099037898, -5.948074411721828, -33....  \n",
       "12  [-17.63012469505711, -5.798484009460023, -34.9...  \n",
       "13  [-18.074616782633168, -6.855843204140244, -34....  \n",
       "14  [-21.707957629006273, -1.8702703573859656, -30...  \n",
       "15  [42.42357347213143, 24.134528765041715, -7.108...  \n",
       "16  [41.222770203268695, 26.768111919432876, -6.96...  \n",
       "17  [39.32985617625425, 23.27535661379619, -5.4720...  \n",
       "18  [31.011312839839288, 22.95059560726529, -3.960...  \n",
       "19  [36.601308230727035, 26.5379949020164, -6.8574...  \n",
       "20  [7.48615590313787, -28.02405144799587, 9.92487...  \n",
       "21  [11.234997106837316, -28.23871002616474, 15.11...  \n",
       "22  [8.10849586050195, -33.88620613955271, 10.0888...  \n",
       "23  [7.846723108220783, -26.94093574149047, 9.9348...  \n",
       "24  [9.56847132126232, -24.451929934082454, 4.4696...  "
      ]
     },
     "execution_count": 49,
     "metadata": {},
     "output_type": "execute_result"
    }
   ],
   "source": [
    "images_df_pandas"
   ]
  },
  {
   "cell_type": "code",
   "execution_count": null,
   "id": "c6ad00ac",
   "metadata": {},
   "outputs": [],
   "source": []
  }
 ],
 "metadata": {
  "kernelspec": {
   "display_name": "Python 3 (ipykernel)",
   "language": "python",
   "name": "python3"
  },
  "language_info": {
   "codemirror_mode": {
    "name": "ipython",
    "version": 3
   },
   "file_extension": ".py",
   "mimetype": "text/x-python",
   "name": "python",
   "nbconvert_exporter": "python",
   "pygments_lexer": "ipython3",
   "version": "3.7.12"
  }
 },
 "nbformat": 4,
 "nbformat_minor": 5
}
