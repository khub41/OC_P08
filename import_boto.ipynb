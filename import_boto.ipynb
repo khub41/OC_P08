{
 "cells": [
  {
   "cell_type": "code",
   "execution_count": 1,
   "id": "8e337c51",
   "metadata": {},
   "outputs": [],
   "source": [
    "import configparser\n",
    "\n",
    "\n",
    "from PIL import Image\n",
    "import io\n",
    "import os\n",
    "import numpy as np\n",
    "\n",
    "import boto3\n",
    "\n",
    "import pyspark\n",
    "from pyspark.sql import SparkSession, Row\n",
    "from pyspark.sql.types import ArrayType, StringType, IntegerType, DoubleType, DataType, FloatType\n",
    "from pyspark.sql.functions import udf\n",
    "\n",
    "# Taches machine learning\n",
    "from pyspark.ml.image import ImageSchema\n",
    "from pyspark.ml.linalg import Vectors, VectorUDT, DenseVector\n",
    "from pyspark.ml.feature import VectorAssembler\n",
    "from pyspark.ml.feature import StringIndexer, StandardScaler\n",
    "from pyspark.ml.feature import PCA\n",
    "\n",
    "import matplotlib.pyplot as plt"
   ]
  },
  {
   "cell_type": "code",
   "execution_count": 2,
   "id": "49d34d26",
   "metadata": {},
   "outputs": [],
   "source": [
    "aws_profile = \"default\"\n",
    "\n",
    "config = configparser.ConfigParser()\n",
    "config.read(os.path.expanduser(\".aws/credentials\"))\n",
    "access_id = config.get(aws_profile, \"aws_access_key_id\".upper()) \n",
    "access_key = config.get(aws_profile, \"aws_secret_access_key\".upper())"
   ]
  },
  {
   "cell_type": "code",
   "execution_count": 3,
   "id": "2834d951",
   "metadata": {},
   "outputs": [],
   "source": [
    "session = boto3.Session(\n",
    "    aws_access_key_id=access_id,\n",
    "    aws_secret_access_key=access_key,\n",
    ")"
   ]
  },
  {
   "cell_type": "code",
   "execution_count": 4,
   "id": "25f7f527",
   "metadata": {},
   "outputs": [],
   "source": [
    "s3 = session.resource('s3')\n",
    "bucket = s3.Bucket(\"fruits-oc-p08\")\n",
    "obj = bucket.Object(key='sample/apple_golden_1/r0_107.jpg')\n",
    "response = obj.get()\n",
    "file_stream = response[u'Body']\n",
    "im = Image.open(file_stream)\n",
    "im = im.resize((20,20))\n",
    "im_arr = np.asarray(im)"
   ]
  },
  {
   "cell_type": "code",
   "execution_count": 5,
   "id": "0477d6c4",
   "metadata": {},
   "outputs": [
    {
     "data": {
      "image/png": "[encoded data removed]",
      "text/plain": [
       "<PIL.Image.Image image mode=RGB size=20x20 at 0x1D564684A48>"
      ]
     },
     "execution_count": 5,
     "metadata": {},
     "output_type": "execute_result"
    }
   ],
   "source": [
    "im"
   ]
  },
  {
   "cell_type": "code",
   "execution_count": 6,
   "id": "b8051019",
   "metadata": {},
   "outputs": [],
   "source": [
    "paths = []\n",
    "for file in bucket.objects.all():\n",
    "    paths.append(file.key)\n",
    "    \n",
    "rdd_paths = sc.parallelize(paths)\n",
    "row_rdd_paths = rdd_paths.map(lambda x: Row(x))"
   ]
  },
  {
   "cell_type": "code",
   "execution_count": 7,
   "id": "d293085b",
   "metadata": {},
   "outputs": [],
   "source": [
    "images_df = spark.createDataFrame(row_rdd_paths, ['path'])"
   ]
  },
  {
   "cell_type": "code",
   "execution_count": 8,
   "id": "8fb21271",
   "metadata": {},
   "outputs": [],
   "source": [
    "# images_df.show(6)"
   ]
  },
  {
   "cell_type": "code",
   "execution_count": 9,
   "id": "a72117eb",
   "metadata": {},
   "outputs": [],
   "source": [
    "def get_categ(path):\n",
    "    folder_name = path.split('/')[1]\n",
    "    categ = folder_name.split('_1')[0]\n",
    "    return categ"
   ]
  },
  {
   "cell_type": "code",
   "execution_count": 10,
   "id": "00838fca",
   "metadata": {},
   "outputs": [],
   "source": [
    "udf_categ = udf(get_categ, StringType())\n",
    "images_df = images_df.withColumn('categ', udf_categ('path'))"
   ]
  },
  {
   "cell_type": "code",
   "execution_count": 11,
   "id": "e7c90484",
   "metadata": {},
   "outputs": [
    {
     "name": "stdout",
     "output_type": "stream",
     "text": [
      "+---------------------------------+-------------+\n",
      "|                             path|        categ|\n",
      "+---------------------------------+-------------+\n",
      "| sample/apple_golden_1/r0_107.jpg| apple_golden|\n",
      "| sample/apple_golden_1/r0_171.jpg| apple_golden|\n",
      "| sample/apple_golden_1/r1_147.jpg| apple_golden|\n",
      "| sample/apple_golden_1/r1_175.jpg| apple_golden|\n",
      "| sample/apple_golden_1/r1_239.jpg| apple_golden|\n",
      "|sample/cabbage_white_1/r0_139.jpg|cabbage_white|\n",
      "+---------------------------------+-------------+\n",
      "only showing top 6 rows\n",
      "\n"
     ]
    }
   ],
   "source": [
    "images_df.show(6, truncate=60)"
   ]
  },
  {
   "cell_type": "code",
   "execution_count": 12,
   "id": "3fc12abb",
   "metadata": {},
   "outputs": [],
   "source": [
    "def get_image(path):\n",
    "    s3 = session.resource('s3')\n",
    "    bucket = s3.Bucket(\"fruits-oc-p08\")\n",
    "    obj = bucket.Object(key=path)\n",
    "    response = obj.get()\n",
    "    file_stream = response['Body']\n",
    "    im = Image.open(file_stream)\n",
    "    im_resized = im.resize((20, 20))\n",
    "    return np.array(im_resized).flatten().tolist()"
   ]
  },
  {
   "cell_type": "code",
   "execution_count": 13,
   "id": "e6bafafa",
   "metadata": {},
   "outputs": [
    {
     "data": {
      "text/plain": [
       "1200"
      ]
     },
     "execution_count": 13,
     "metadata": {},
     "output_type": "execute_result"
    }
   ],
   "source": [
    "len(get_image('sample/apple_golden_1/r0_107.jpg'))"
   ]
  },
  {
   "cell_type": "code",
   "execution_count": 14,
   "id": "0f5cb1ef",
   "metadata": {},
   "outputs": [],
   "source": [
    "udf_image = udf(get_image)"
   ]
  },
  {
   "cell_type": "code",
   "execution_count": 15,
   "id": "42865c93",
   "metadata": {},
   "outputs": [],
   "source": [
    "images_df = images_df.withColumn('data', udf_image('path'))"
   ]
  },
  {
   "cell_type": "code",
   "execution_count": 16,
   "id": "ea270536",
   "metadata": {},
   "outputs": [
    {
     "name": "stdout",
     "output_type": "stream",
     "text": [
      "+---------------------------------+-------------+------------------------------------------------------------+\n",
      "|                             path|        categ|                                                        data|\n",
      "+---------------------------------+-------------+------------------------------------------------------------+\n",
      "| sample/apple_golden_1/r0_107.jpg| apple_golden|[255, 255, 255, 255, 255, 255, 255, 255, 255, 255, 255, 2...|\n",
      "| sample/apple_golden_1/r0_171.jpg| apple_golden|[255, 255, 255, 255, 255, 255, 255, 255, 255, 255, 255, 2...|\n",
      "| sample/apple_golden_1/r1_147.jpg| apple_golden|[255, 255, 255, 255, 255, 255, 255, 255, 255, 255, 255, 2...|\n",
      "| sample/apple_golden_1/r1_175.jpg| apple_golden|[255, 255, 255, 255, 255, 255, 255, 255, 255, 255, 255, 2...|\n",
      "| sample/apple_golden_1/r1_239.jpg| apple_golden|[255, 255, 255, 255, 255, 255, 255, 255, 255, 255, 255, 2...|\n",
      "|sample/cabbage_white_1/r0_139.jpg|cabbage_white|[255, 255, 255, 255, 255, 255, 255, 255, 255, 255, 255, 2...|\n",
      "+---------------------------------+-------------+------------------------------------------------------------+\n",
      "only showing top 6 rows\n",
      "\n"
     ]
    }
   ],
   "source": [
    "images_df.show(6, truncate=60)"
   ]
  },
  {
   "cell_type": "code",
   "execution_count": 17,
   "id": "e95d46a1",
   "metadata": {},
   "outputs": [],
   "source": [
    "# conversion format vecteur dense\n",
    "ud_f = udf(lambda r: Vectors.dense(r), VectorUDT())\n",
    "images_df = images_df.withColumn('data', ud_f('data'))"
   ]
  },
  {
   "cell_type": "code",
   "execution_count": 18,
   "id": "2bcdc6fe",
   "metadata": {},
   "outputs": [],
   "source": [
    "#standardisation des données\n",
    "standardizer = StandardScaler(inputCol=\"data\", outputCol=\"data_scale\", withStd=True, withMean=True)\n",
    "model_std = standardizer.fit(images_df)\n",
    "images_df = model_std.transform(images_df)"
   ]
  },
  {
   "cell_type": "code",
   "execution_count": 19,
   "id": "5ea1a40d",
   "metadata": {},
   "outputs": [
    {
     "name": "stdout",
     "output_type": "stream",
     "text": [
      "+--------------------+-------------+--------------------+--------------------+\n",
      "|                path|        categ|                data|          data_scale|\n",
      "+--------------------+-------------+--------------------+--------------------+\n",
      "|sample/apple_gold...| apple_golden|[255.0,255.0,255....|[0.29727137307215...|\n",
      "|sample/apple_gold...| apple_golden|[255.0,255.0,255....|[0.29727137307215...|\n",
      "|sample/apple_gold...| apple_golden|[255.0,255.0,255....|[0.29727137307215...|\n",
      "|sample/apple_gold...| apple_golden|[255.0,255.0,255....|[0.29727137307215...|\n",
      "|sample/apple_gold...| apple_golden|[255.0,255.0,255....|[0.29727137307215...|\n",
      "|sample/cabbage_wh...|cabbage_white|[255.0,255.0,255....|[0.29727137307215...|\n",
      "+--------------------+-------------+--------------------+--------------------+\n",
      "only showing top 6 rows\n",
      "\n"
     ]
    }
   ],
   "source": [
    "images_df.show(6)"
   ]
  },
  {
   "cell_type": "code",
   "execution_count": 20,
   "id": "ed7d4383",
   "metadata": {},
   "outputs": [],
   "source": [
    "pca_obj = PCA(k=100, inputCol='data_scale')\n",
    "pca_model = pca_obj.fit(images_df)"
   ]
  },
  {
   "cell_type": "code",
   "execution_count": 21,
   "id": "70a9b90c",
   "metadata": {},
   "outputs": [
    {
     "data": {
      "text/plain": [
       "Text(0, 0.5, 'Variance cumulée')"
      ]
     },
     "execution_count": 21,
     "metadata": {},
     "output_type": "execute_result"
    },
    {
     "data": {
      "image/png": "[encoded data removed]",
      "text/plain": [
       "<Figure size 576x360 with 1 Axes>"
      ]
     },
     "metadata": {
      "needs_background": "light"
     },
     "output_type": "display_data"
    }
   ],
   "source": [
    "eVc = pca_model.explainedVariance.cumsum()\n",
    "#plt.rcParams['figure.facecolor']='w'\n",
    "plt.figure(figsize=(8,5))\n",
    "plt.plot(range(1,len(eVc)+1), eVc, color='b',\n",
    "         marker = '.', linestyle='-')\n",
    "plt.title('Scree plot')\n",
    "plt.xlabel('Nombre des premiers composants principaux')\n",
    "plt.ylabel('Variance cumulée')"
   ]
  },
  {
   "cell_type": "code",
   "execution_count": 22,
   "id": "09696b4d",
   "metadata": {},
   "outputs": [],
   "source": [
    "pca_obj = PCA(k=20, inputCol='data_scale', outputCol='pca_features')\n",
    "pca_model = pca_obj.fit(images_df)"
   ]
  },
  {
   "cell_type": "code",
   "execution_count": 23,
   "id": "f60b5646",
   "metadata": {},
   "outputs": [],
   "source": [
    "images_df = pca_model.transform(images_df)"
   ]
  },
  {
   "cell_type": "code",
   "execution_count": 24,
   "id": "f35fa2a8",
   "metadata": {},
   "outputs": [
    {
     "name": "stdout",
     "output_type": "stream",
     "text": [
      "+--------------------+-------------+--------------------+--------------------+--------------------+\n",
      "|                path|        categ|                data|          data_scale|        pca_features|\n",
      "+--------------------+-------------+--------------------+--------------------+--------------------+\n",
      "|sample/apple_gold...| apple_golden|[255.0,255.0,255....|[0.29727137307215...|[4.98322515727135...|\n",
      "|sample/apple_gold...| apple_golden|[255.0,255.0,255....|[0.29727137307215...|[9.61064370313451...|\n",
      "|sample/apple_gold...| apple_golden|[255.0,255.0,255....|[0.29727137307215...|[6.13758904996988...|\n",
      "|sample/apple_gold...| apple_golden|[255.0,255.0,255....|[0.29727137307215...|[7.46652431865648...|\n",
      "|sample/apple_gold...| apple_golden|[255.0,255.0,255....|[0.29727137307215...|[8.93427882146846...|\n",
      "|sample/cabbage_wh...|cabbage_white|[255.0,255.0,255....|[0.29727137307215...|[6.35674010172881...|\n",
      "+--------------------+-------------+--------------------+--------------------+--------------------+\n",
      "only showing top 6 rows\n",
      "\n"
     ]
    }
   ],
   "source": [
    "images_df.show(6)"
   ]
  }
 ],
 "metadata": {
  "kernelspec": {
   "display_name": "Python 3 (ipykernel)",
   "language": "python",
   "name": "python3"
  },
  "language_info": {
   "codemirror_mode": {
    "name": "ipython",
    "version": 3
   },
   "file_extension": ".py",
   "mimetype": "text/x-python",
   "name": "python",
   "nbconvert_exporter": "python",
   "pygments_lexer": "ipython3",
   "version": "3.7.12"
  }
 },
 "nbformat": 4,
 "nbformat_minor": 5
}
